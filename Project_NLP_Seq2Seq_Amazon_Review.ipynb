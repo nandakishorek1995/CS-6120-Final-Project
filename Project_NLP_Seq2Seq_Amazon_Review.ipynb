{
 "cells": [
  {
   "cell_type": "markdown",
   "metadata": {},
   "source": [
    "## Abstractive Text Summarization using Seq2Seq LSTM for Amazon Review Dataset."
   ]
  },
  {
   "cell_type": "markdown",
   "metadata": {
    "_cell_guid": "b1076dfc-b9ad-4769-8c92-a6c4dae69d19",
    "_uuid": "8f2839f25d086af736a60e9eeb907d3b93b6e0e5",
    "colab": {
     "base_uri": "https://localhost:8080/"
    },
    "id": "_Jpu8qLEFxcY",
    "outputId": "16db9ef0-fb6d-4a04-81f9-bd8d75999e6b"
   },
   "source": [
    "import numpy as np\n",
    "import pandas as pd \n",
    "import re\n",
    "from bs4 import BeautifulSoup\n",
    "from keras.preprocessing.text import Tokenizer \n",
    "from keras.preprocessing.sequence import pad_sequences\n",
    "from nltk.corpus import stopwords\n",
    "from tensorflow.keras.layers import Input, LSTM, Embedding, Dense, Concatenate, TimeDistributed\n",
    "from tensorflow.keras.models import Model\n",
    "from tensorflow.keras.callbacks import EarlyStopping\n",
    "import nltk\n",
    "nltk.download('stopwords')  \n",
    "import warnings\n",
    "pd.set_option(\"display.max_colwidth\", 200)\n",
    "warnings.filterwarnings(\"ignore\")"
   ]
  },
  {
   "cell_type": "markdown",
   "metadata": {},
   "source": [
    "##Read the dataset\n",
    "\n",
    "This dataset consists of reviews of fine foods from Amazon. Download the dataset from kaggle.\n",
    "\n",
    "https://www.kaggle.com/code/currie32/summarizing-text-with-amazon-reviews/notebook"
   ]
  },
  {
   "cell_type": "code",
   "execution_count": 4,
   "metadata": {
    "id": "wnK5o4Z1Fxcj"
   },
   "outputs": [],
   "source": [
    "data=pd.read_csv(\"Reviews.csv\",nrows=100000)"
   ]
  },
  {
   "cell_type": "markdown",
   "metadata": {
    "id": "kGNQKvCaISIn"
   },
   "source": [
    "### Preprocessing\n",
    "Data cleaning is an important part of the text summarization. Using unclean data may result into the disastrous results."
   ]
  },
  {
   "cell_type": "code",
   "execution_count": 5,
   "metadata": {
    "id": "Cjul88oOFxcr"
   },
   "outputs": [],
   "source": [
    "data.drop_duplicates(subset=['Text'],inplace=True)\n",
    "data.dropna(axis=0,inplace=True)"
   ]
  },
  {
   "cell_type": "code",
   "execution_count": 6,
   "metadata": {
    "colab": {
     "base_uri": "https://localhost:8080/"
    },
    "id": "__fy-JxTFxc9",
    "outputId": "e8476f2e-8058-49f7-8903-9515770e1ecd"
   },
   "outputs": [
    {
     "name": "stdout",
     "output_type": "stream",
     "text": [
      "<class 'pandas.core.frame.DataFrame'>\n",
      "Int64Index: 88421 entries, 0 to 99999\n",
      "Data columns (total 10 columns):\n",
      " #   Column                  Non-Null Count  Dtype \n",
      "---  ------                  --------------  ----- \n",
      " 0   Id                      88421 non-null  int64 \n",
      " 1   ProductId               88421 non-null  object\n",
      " 2   UserId                  88421 non-null  object\n",
      " 3   ProfileName             88421 non-null  object\n",
      " 4   HelpfulnessNumerator    88421 non-null  int64 \n",
      " 5   HelpfulnessDenominator  88421 non-null  int64 \n",
      " 6   Score                   88421 non-null  int64 \n",
      " 7   Time                    88421 non-null  int64 \n",
      " 8   Summary                 88421 non-null  object\n",
      " 9   Text                    88421 non-null  object\n",
      "dtypes: int64(5), object(5)\n",
      "memory usage: 7.4+ MB\n"
     ]
    }
   ],
   "source": [
    "data.info()"
   ]
  },
  {
   "cell_type": "markdown",
   "metadata": {},
   "source": [
    "the dictionary for expanding the contractions"
   ]
  },
  {
   "cell_type": "code",
   "execution_count": 7,
   "metadata": {
    "id": "0s6IY-x2FxdL"
   },
   "outputs": [],
   "source": [
    "contraction_mapping = {\"ain't\": \"is not\", \"aren't\": \"are not\",\"can't\": \"cannot\", \"'cause\": \"because\", \"could've\": \"could have\", \"couldn't\": \"could not\",\n",
    "                           \"didn't\": \"did not\",  \"doesn't\": \"does not\", \"don't\": \"do not\", \"hadn't\": \"had not\", \"hasn't\": \"has not\", \"haven't\": \"have not\",\n",
    "                           \"he'd\": \"he would\",\"he'll\": \"he will\", \"he's\": \"he is\", \"how'd\": \"how did\", \"how'd'y\": \"how do you\", \"how'll\": \"how will\", \"how's\": \"how is\",\n",
    "                           \"I'd\": \"I would\", \"I'd've\": \"I would have\", \"I'll\": \"I will\", \"I'll've\": \"I will have\",\"I'm\": \"I am\", \"I've\": \"I have\", \"i'd\": \"i would\",\n",
    "                           \"i'd've\": \"i would have\", \"i'll\": \"i will\",  \"i'll've\": \"i will have\",\"i'm\": \"i am\", \"i've\": \"i have\", \"isn't\": \"is not\", \"it'd\": \"it would\",\n",
    "                           \"it'd've\": \"it would have\", \"it'll\": \"it will\", \"it'll've\": \"it will have\",\"it's\": \"it is\", \"let's\": \"let us\", \"ma'am\": \"madam\",\n",
    "                           \"mayn't\": \"may not\", \"might've\": \"might have\",\"mightn't\": \"might not\",\"mightn't've\": \"might not have\", \"must've\": \"must have\",\n",
    "                           \"mustn't\": \"must not\", \"mustn't've\": \"must not have\", \"needn't\": \"need not\", \"needn't've\": \"need not have\",\"o'clock\": \"of the clock\",\n",
    "                           \"oughtn't\": \"ought not\", \"oughtn't've\": \"ought not have\", \"shan't\": \"shall not\", \"sha'n't\": \"shall not\", \"shan't've\": \"shall not have\",\n",
    "                           \"she'd\": \"she would\", \"she'd've\": \"she would have\", \"she'll\": \"she will\", \"she'll've\": \"she will have\", \"she's\": \"she is\",\n",
    "                           \"should've\": \"should have\", \"shouldn't\": \"should not\", \"shouldn't've\": \"should not have\", \"so've\": \"so have\",\"so's\": \"so as\",\n",
    "                           \"this's\": \"this is\",\"that'd\": \"that would\", \"that'd've\": \"that would have\", \"that's\": \"that is\", \"there'd\": \"there would\",\n",
    "                           \"there'd've\": \"there would have\", \"there's\": \"there is\", \"here's\": \"here is\",\"they'd\": \"they would\", \"they'd've\": \"they would have\",\n",
    "                           \"they'll\": \"they will\", \"they'll've\": \"they will have\", \"they're\": \"they are\", \"they've\": \"they have\", \"to've\": \"to have\",\n",
    "                           \"wasn't\": \"was not\", \"we'd\": \"we would\", \"we'd've\": \"we would have\", \"we'll\": \"we will\", \"we'll've\": \"we will have\", \"we're\": \"we are\",\n",
    "                           \"we've\": \"we have\", \"weren't\": \"were not\", \"what'll\": \"what will\", \"what'll've\": \"what will have\", \"what're\": \"what are\",\n",
    "                           \"what's\": \"what is\", \"what've\": \"what have\", \"when's\": \"when is\", \"when've\": \"when have\", \"where'd\": \"where did\", \"where's\": \"where is\",\n",
    "                           \"where've\": \"where have\", \"who'll\": \"who will\", \"who'll've\": \"who will have\", \"who's\": \"who is\", \"who've\": \"who have\",\n",
    "                           \"why's\": \"why is\", \"why've\": \"why have\", \"will've\": \"will have\", \"won't\": \"will not\", \"won't've\": \"will not have\",\n",
    "                           \"would've\": \"would have\", \"wouldn't\": \"would not\", \"wouldn't've\": \"would not have\", \"y'all\": \"you all\",\n",
    "                           \"y'all'd\": \"you all would\",\"y'all'd've\": \"you all would have\",\"y'all're\": \"you all are\",\"y'all've\": \"you all have\",\n",
    "                           \"you'd\": \"you would\", \"you'd've\": \"you would have\", \"you'll\": \"you will\", \"you'll've\": \"you will have\",\n",
    "                           \"you're\": \"you are\", \"you've\": \"you have\"}"
   ]
  },
  {
   "cell_type": "markdown",
   "metadata": {},
   "source": [
    "### Removing stop words"
   ]
  },
  {
   "cell_type": "code",
   "execution_count": 8,
   "metadata": {
    "id": "XZr-u3OEFxdT"
   },
   "outputs": [],
   "source": [
    "stop_words = set(stopwords.words('english')) \n",
    "\n",
    "def text_cleaner(text,num):\n",
    "    newString = text.lower()\n",
    "    newString = BeautifulSoup(newString, \"lxml\").text\n",
    "    newString = re.sub(r'\\([^)]*\\)', '', newString)\n",
    "    newString = re.sub('\"','', newString)\n",
    "    newString = ' '.join([contraction_mapping[t] if t in contraction_mapping else t for t in newString.split(\" \")])    \n",
    "    newString = re.sub(r\"'s\\b\",\"\",newString)\n",
    "    newString = re.sub(\"[^a-zA-Z]\", \" \", newString) \n",
    "    newString = re.sub('[m]{2,}', 'mm', newString)\n",
    "    if(num==0):\n",
    "        tokens = [w for w in newString.split() if not w in stop_words]\n",
    "    else:\n",
    "        tokens=newString.split()\n",
    "    long_words=[]\n",
    "    for i in tokens:\n",
    "        if len(i)>1:                                                 #removing short word\n",
    "            long_words.append(i)   \n",
    "    return (\" \".join(long_words)).strip()"
   ]
  },
  {
   "cell_type": "code",
   "execution_count": 9,
   "metadata": {
    "id": "A2QAeCHWFxdY"
   },
   "outputs": [],
   "source": [
    "#call the function\n",
    "cleaned_text = []\n",
    "for t in data['Text']:\n",
    "    cleaned_text.append(text_cleaner(t,0)) "
   ]
  },
  {
   "cell_type": "code",
   "execution_count": 10,
   "metadata": {
    "colab": {
     "base_uri": "https://localhost:8080/"
    },
    "id": "NCAIkhWbFxdh",
    "outputId": "ffb55aef-59ea-433b-a90e-2c64a8397abf"
   },
   "outputs": [
    {
     "data": {
      "text/plain": [
       "['bought several vitality canned dog food products found good quality product looks like stew processed meat smells better labrador finicky appreciates product better',\n",
       " 'product arrived labeled jumbo salted peanuts peanuts actually small sized unsalted sure error vendor intended represent product jumbo',\n",
       " 'confection around centuries light pillowy citrus gelatin nuts case filberts cut tiny squares liberally coated powdered sugar tiny mouthful heaven chewy flavorful highly recommend yummy treat familiar story lewis lion witch wardrobe treat seduces edmund selling brother sisters witch',\n",
       " 'looking secret ingredient robitussin believe found got addition root beer extract ordered made cherry soda flavor medicinal',\n",
       " 'great taffy great price wide assortment yummy taffy delivery quick taffy lover deal']"
      ]
     },
     "execution_count": 10,
     "metadata": {},
     "output_type": "execute_result"
    }
   ],
   "source": [
    "cleaned_text[:5]  "
   ]
  },
  {
   "cell_type": "code",
   "execution_count": 11,
   "metadata": {
    "id": "GsRXocxoFxd-"
   },
   "outputs": [],
   "source": [
    "#call the function\n",
    "cleaned_summary = []\n",
    "for t in data['Summary']:\n",
    "    cleaned_summary.append(text_cleaner(t,1))"
   ]
  },
  {
   "cell_type": "code",
   "execution_count": 12,
   "metadata": {
    "colab": {
     "base_uri": "https://localhost:8080/"
    },
    "id": "jQJdZcAzFxee",
    "outputId": "502901bc-fdab-469a-ecda-9f23fdf241aa"
   },
   "outputs": [
    {
     "data": {
      "text/plain": [
       "['good quality dog food',\n",
       " 'not as advertised',\n",
       " 'delight says it all',\n",
       " 'cough medicine',\n",
       " 'great taffy',\n",
       " 'nice taffy',\n",
       " 'great just as good as the expensive brands',\n",
       " 'wonderful tasty taffy',\n",
       " 'yay barley',\n",
       " 'healthy dog food']"
      ]
     },
     "execution_count": 12,
     "metadata": {},
     "output_type": "execute_result"
    }
   ],
   "source": [
    "cleaned_summary[:10]"
   ]
  },
  {
   "cell_type": "code",
   "execution_count": 13,
   "metadata": {
    "id": "L1zLpnqsFxey"
   },
   "outputs": [],
   "source": [
    "data['cleaned_text']=cleaned_text\n",
    "data['cleaned_summary']=cleaned_summary"
   ]
  },
  {
   "cell_type": "code",
   "execution_count": 14,
   "metadata": {
    "id": "sYK390unFxfA"
   },
   "outputs": [],
   "source": [
    "data.replace('', np.nan, inplace=True)\n",
    "data.dropna(axis=0,inplace=True)"
   ]
  },
  {
   "cell_type": "markdown",
   "metadata": {},
   "source": [
    "Analyzing the distribution of the sequences.\n",
    "Look at the length of the reviews and the summary to get an overall idea about the distribution of length of the text to fix the maximum length of the sequence to be generated."
   ]
  },
  {
   "cell_type": "code",
   "execution_count": 15,
   "metadata": {
    "colab": {
     "base_uri": "https://localhost:8080/",
     "height": 281
    },
    "id": "MdF76AHHFxgw",
    "outputId": "00927468-92c8-4472-bcc6-78ae1e9f04ec"
   },
   "outputs": [
    {
     "data": {
      "image/png": "[encoded data removed]",
      "text/plain": [
       "<Figure size 432x288 with 2 Axes>"
      ]
     },
     "metadata": {
      "needs_background": "light"
     },
     "output_type": "display_data"
    }
   ],
   "source": [
    "import matplotlib.pyplot as plt\n",
    "\n",
    "text_word_count = []\n",
    "summary_word_count = []\n",
    "\n",
    "# populate the lists with sentence lengths\n",
    "for i in data['cleaned_text']:\n",
    "      text_word_count.append(len(i.split()))\n",
    "\n",
    "for i in data['cleaned_summary']:\n",
    "      summary_word_count.append(len(i.split()))\n",
    "\n",
    "length_df = pd.DataFrame({'text':text_word_count, 'summary':summary_word_count})\n",
    "\n",
    "length_df.hist(bins = 30)\n",
    "plt.show()"
   ]
  },
  {
   "cell_type": "code",
   "execution_count": 16,
   "metadata": {
    "colab": {
     "base_uri": "https://localhost:8080/"
    },
    "id": "7JRjwdIOFxg3",
    "outputId": "8668358c-eb24-4644-813d-900967aac9ef"
   },
   "outputs": [
    {
     "name": "stdout",
     "output_type": "stream",
     "text": [
      "0.9424907471335922\n"
     ]
    }
   ],
   "source": [
    "cnt=0\n",
    "for i in data['cleaned_summary']:\n",
    "    if(len(i.split())<=8):\n",
    "        cnt=cnt+1\n",
    "print(cnt/len(data['cleaned_summary']))"
   ]
  },
  {
   "cell_type": "code",
   "execution_count": 17,
   "metadata": {
    "id": "ZKD5VOWqFxhC"
   },
   "outputs": [],
   "source": [
    "max_text_len=30\n",
    "max_summary_len=8"
   ]
  },
  {
   "cell_type": "code",
   "execution_count": 18,
   "metadata": {
    "id": "yY0tEJP0FxhI"
   },
   "outputs": [],
   "source": [
    "cleaned_text =np.array(data['cleaned_text'])\n",
    "cleaned_summary=np.array(data['cleaned_summary'])\n",
    "\n",
    "short_text=[]\n",
    "short_summary=[]\n",
    "\n",
    "for i in range(len(cleaned_text)):\n",
    "    if(len(cleaned_summary[i].split())<=max_summary_len and len(cleaned_text[i].split())<=max_text_len):\n",
    "        short_text.append(cleaned_text[i])\n",
    "        short_summary.append(cleaned_summary[i])\n",
    "        \n",
    "df=pd.DataFrame({'text':short_text,'summary':short_summary})"
   ]
  },
  {
   "cell_type": "markdown",
   "metadata": {},
   "source": [
    "Add the START and END special tokens at the beginning and end of the summary"
   ]
  },
  {
   "cell_type": "code",
   "execution_count": 19,
   "metadata": {
    "id": "EwLUH78CFxhg"
   },
   "outputs": [],
   "source": [
    "df['summary'] = df['summary'].apply(lambda x : 'sostok '+ x + ' eostok')"
   ]
  },
  {
   "cell_type": "markdown",
   "metadata": {},
   "source": [
    "Dividing the test and the train data"
   ]
  },
  {
   "cell_type": "code",
   "execution_count": 20,
   "metadata": {
    "id": "RakakKHcFxhl"
   },
   "outputs": [],
   "source": [
    "from sklearn.model_selection import train_test_split\n",
    "x_tr,x_val,y_tr,y_val=train_test_split(np.array(df['text']),np.array(df['summary']),test_size=0.1,random_state=0,shuffle=True) "
   ]
  },
  {
   "cell_type": "markdown",
   "metadata": {},
   "source": [
    "Preparing the tokenizer, A tokenizer builds the vocabulary and converts a word sequence to an integer sequence.\n",
    "Reviews Tokenizer code is in below cell"
   ]
  },
  {
   "cell_type": "code",
   "execution_count": 21,
   "metadata": {
    "id": "oRHTgX6hFxhq"
   },
   "outputs": [],
   "source": [
    "from keras.preprocessing.text import Tokenizer \n",
    "from keras.preprocessing.sequence import pad_sequences\n",
    "\n",
    "#prepare a tokenizer for reviews on training data\n",
    "x_tokenizer = Tokenizer() \n",
    "x_tokenizer.fit_on_texts(list(x_tr))"
   ]
  },
  {
   "cell_type": "code",
   "execution_count": null,
   "metadata": {},
   "outputs": [],
   "source": [
    "Rarewords and its Coverage"
   ]
  },
  {
   "cell_type": "code",
   "execution_count": 22,
   "metadata": {
    "colab": {
     "base_uri": "https://localhost:8080/"
    },
    "id": "y8KronV2Fxhx",
    "outputId": "beaf3c95-24ec-4817-c088-9e93c89d5a62"
   },
   "outputs": [
    {
     "name": "stdout",
     "output_type": "stream",
     "text": [
      "% of rare words in vocabulary: 66.12339930151339\n",
      "Total Coverage of rare words: 2.953684513790566\n"
     ]
    }
   ],
   "source": [
    "thresh=4\n",
    "\n",
    "cnt=0\n",
    "tot_cnt=0\n",
    "freq=0\n",
    "tot_freq=0\n",
    "\n",
    "for key,value in x_tokenizer.word_counts.items():\n",
    "    tot_cnt=tot_cnt+1\n",
    "    tot_freq=tot_freq+value\n",
    "    if(value<thresh):\n",
    "        cnt=cnt+1\n",
    "        freq=freq+value\n",
    "    \n",
    "print(\"% of rare words in vocabulary:\",(cnt/tot_cnt)*100)\n",
    "print(\"Total Coverage of rare words:\",(freq/tot_freq)*100)"
   ]
  },
  {
   "cell_type": "markdown",
   "metadata": {},
   "source": [
    "tot_cnt gives the size of vocabulary (which means every unique words in the text)\n",
    "cnt gives me the no. of rare words whose count falls below threshold\n",
    "tot_cnt - cnt gives me the top most common words\n",
    "\n",
    "Let us define the tokenizer with top most common words for reviews"
   ]
  },
  {
   "cell_type": "code",
   "execution_count": 23,
   "metadata": {
    "id": "J2giEsF3Fxh3"
   },
   "outputs": [],
   "source": [
    "#prepare a tokenizer for reviews on training data\n",
    "x_tokenizer = Tokenizer(num_words=tot_cnt-cnt) \n",
    "x_tokenizer.fit_on_texts(list(x_tr))\n",
    "\n",
    "#convert text sequences into integer sequences\n",
    "x_tr_seq    =   x_tokenizer.texts_to_sequences(x_tr) \n",
    "x_val_seq   =   x_tokenizer.texts_to_sequences(x_val)\n",
    "\n",
    "#padding zero upto maximum length\n",
    "x_tr    =   pad_sequences(x_tr_seq,  maxlen=max_text_len, padding='post')\n",
    "x_val   =   pad_sequences(x_val_seq, maxlen=max_text_len, padding='post')\n",
    "\n",
    "#size of vocabulary ( +1 for padding token)\n",
    "x_voc   =  x_tokenizer.num_words + 1"
   ]
  },
  {
   "cell_type": "code",
   "execution_count": 24,
   "metadata": {
    "colab": {
     "base_uri": "https://localhost:8080/"
    },
    "id": "DCbGMsm4FxiA",
    "outputId": "ad486d43-91bd-4b29-fe23-fa859a297200"
   },
   "outputs": [
    {
     "data": {
      "text/plain": [
       "8440"
      ]
     },
     "execution_count": 24,
     "metadata": {},
     "output_type": "execute_result"
    }
   ],
   "source": [
    "x_voc"
   ]
  },
  {
   "cell_type": "markdown",
   "metadata": {},
   "source": [
    "we will do the tokenization for summary as well"
   ]
  },
  {
   "cell_type": "code",
   "execution_count": 25,
   "metadata": {
    "id": "eRHqyBkBFxiJ"
   },
   "outputs": [],
   "source": [
    "#prepare a tokenizer for reviews on training data\n",
    "y_tokenizer = Tokenizer()   \n",
    "y_tokenizer.fit_on_texts(list(y_tr))"
   ]
  },
  {
   "cell_type": "markdown",
   "metadata": {},
   "source": [
    "Rarewords and its Coverage"
   ]
  },
  {
   "cell_type": "code",
   "execution_count": 26,
   "metadata": {
    "colab": {
     "base_uri": "https://localhost:8080/"
    },
    "id": "yzE5OiRLFxiM",
    "outputId": "0729eebb-8913-4488-944b-a2def590ebae"
   },
   "outputs": [
    {
     "name": "stdout",
     "output_type": "stream",
     "text": [
      "% of rare words in vocabulary: 78.12740675541863\n",
      "Total Coverage of rare words: 5.3921899389571895\n"
     ]
    }
   ],
   "source": [
    "thresh=6\n",
    "\n",
    "cnt=0\n",
    "tot_cnt=0\n",
    "freq=0\n",
    "tot_freq=0\n",
    "\n",
    "for key,value in y_tokenizer.word_counts.items():\n",
    "    tot_cnt=tot_cnt+1\n",
    "    tot_freq=tot_freq+value\n",
    "    if(value<thresh):\n",
    "        cnt=cnt+1\n",
    "        freq=freq+value\n",
    "    \n",
    "print(\"% of rare words in vocabulary:\",(cnt/tot_cnt)*100)\n",
    "print(\"Total Coverage of rare words:\",(freq/tot_freq)*100)"
   ]
  },
  {
   "cell_type": "markdown",
   "metadata": {},
   "source": [
    "Define the tokenizer with top most common words for summary."
   ]
  },
  {
   "cell_type": "code",
   "execution_count": 27,
   "metadata": {
    "id": "-fswLvIgFxiR"
   },
   "outputs": [],
   "source": [
    "#prepare a tokenizer for reviews on training data\n",
    "y_tokenizer = Tokenizer(num_words=tot_cnt-cnt) \n",
    "y_tokenizer.fit_on_texts(list(y_tr))\n",
    "\n",
    "#convert text sequences into integer sequences\n",
    "y_tr_seq    =   y_tokenizer.texts_to_sequences(y_tr) \n",
    "y_val_seq   =   y_tokenizer.texts_to_sequences(y_val) \n",
    "\n",
    "#padding zero upto maximum length\n",
    "y_tr    =   pad_sequences(y_tr_seq, maxlen=max_summary_len, padding='post')\n",
    "y_val   =   pad_sequences(y_val_seq, maxlen=max_summary_len, padding='post')\n",
    "\n",
    "#size of vocabulary\n",
    "y_voc  =   y_tokenizer.num_words +1"
   ]
  },
  {
   "cell_type": "code",
   "execution_count": 28,
   "metadata": {
    "colab": {
     "base_uri": "https://localhost:8080/"
    },
    "id": "pR8IX9FRFxiY",
    "outputId": "301fe1c6-bf6e-4469-bec6-07c40ade9572"
   },
   "outputs": [
    {
     "data": {
      "text/plain": [
       "(42453, 42453)"
      ]
     },
     "execution_count": 28,
     "metadata": {},
     "output_type": "execute_result"
    }
   ],
   "source": [
    "y_tokenizer.word_counts['sostok'],len(y_tr)   "
   ]
  },
  {
   "cell_type": "markdown",
   "metadata": {},
   "source": [
    "Deleting the rows that contain only START and END tokens"
   ]
  },
  {
   "cell_type": "code",
   "execution_count": 29,
   "metadata": {
    "id": "kZ-vW82sFxih"
   },
   "outputs": [],
   "source": [
    "ind=[]\n",
    "for i in range(len(y_tr)):\n",
    "    cnt=0\n",
    "    for j in y_tr[i]:\n",
    "        if j!=0:\n",
    "            cnt=cnt+1\n",
    "    if(cnt==2):\n",
    "        ind.append(i)\n",
    "\n",
    "y_tr=np.delete(y_tr,ind, axis=0)\n",
    "x_tr=np.delete(x_tr,ind, axis=0)"
   ]
  },
  {
   "cell_type": "code",
   "execution_count": 30,
   "metadata": {
    "id": "cx5NISuMFxik"
   },
   "outputs": [],
   "source": [
    "ind=[]\n",
    "for i in range(len(y_val)):\n",
    "    cnt=0\n",
    "    for j in y_val[i]:\n",
    "        if j!=0:\n",
    "            cnt=cnt+1\n",
    "    if(cnt==2):\n",
    "        ind.append(i)\n",
    "\n",
    "y_val=np.delete(y_val,ind, axis=0)\n",
    "x_val=np.delete(x_val,ind, axis=0)"
   ]
  },
  {
   "cell_type": "markdown",
   "metadata": {},
   "source": [
    "### Model\n",
    "Return Sequences = True: When the return sequences parameter is set to True, LSTM produces the hidden state and cell state for every timestep\n",
    "\n",
    "Return State = True: When return state = True, LSTM produces the hidden state and cell state of the last timestep only\n",
    "\n",
    "Initial State: This is used to initialize the internal states of the LSTM for the first timestep\n",
    "\n",
    "Stacked LSTM: Stacked LSTM has multiple layers of LSTM stacked on top of each other. This leads to a better representation of the sequence. \n",
    "\n",
    " Building a 3 stacked LSTM for the encoder:"
   ]
  },
  {
   "cell_type": "code",
   "execution_count": 32,
   "metadata": {
    "id": "mW66QQ8y_MIl"
   },
   "outputs": [],
   "source": [
    "from tensorflow.keras.preprocessing.text import Tokenizer\n",
    "from tensorflow.keras.preprocessing.sequence import pad_sequences\n",
    "from tensorflow.keras.layers import Input, LSTM, Embedding, Dense, \\\n",
    "    Concatenate, TimeDistributed\n",
    "from tensorflow.keras.models import Model\n",
    "from tensorflow.keras.callbacks import EarlyStopping"
   ]
  },
  {
   "cell_type": "code",
   "execution_count": 33,
   "metadata": {
    "colab": {
     "base_uri": "https://localhost:8080/"
    },
    "id": "Sd3swAJ0_PB0",
    "outputId": "6a72167a-82c3-4269-e729-c09016c4510c"
   },
   "outputs": [
    {
     "name": "stdout",
     "output_type": "stream",
     "text": [
      "Model: \"model\"\n",
      "__________________________________________________________________________________________________\n",
      " Layer (type)                   Output Shape         Param #     Connected to                     \n",
      "==================================================================================================\n",
      " input_1 (InputLayer)           [(None, 30)]         0           []                               \n",
      "                                                                                                  \n",
      " embedding (Embedding)          (None, 30, 200)      1688000     ['input_1[0][0]']                \n",
      "                                                                                                  \n",
      " lstm (LSTM)                    [(None, 30, 300),    601200      ['embedding[0][0]']              \n",
      "                                 (None, 300),                                                     \n",
      "                                 (None, 300)]                                                     \n",
      "                                                                                                  \n",
      " input_2 (InputLayer)           [(None, None)]       0           []                               \n",
      "                                                                                                  \n",
      " lstm_1 (LSTM)                  [(None, 30, 300),    721200      ['lstm[0][0]']                   \n",
      "                                 (None, 300),                                                     \n",
      "                                 (None, 300)]                                                     \n",
      "                                                                                                  \n",
      " embedding_1 (Embedding)        (None, None, 200)    397800      ['input_2[0][0]']                \n",
      "                                                                                                  \n",
      " lstm_2 (LSTM)                  [(None, 30, 300),    721200      ['lstm_1[0][0]']                 \n",
      "                                 (None, 300),                                                     \n",
      "                                 (None, 300)]                                                     \n",
      "                                                                                                  \n",
      " lstm_3 (LSTM)                  [(None, None, 300),  601200      ['embedding_1[0][0]',            \n",
      "                                 (None, 300),                     'lstm_2[0][1]',                 \n",
      "                                 (None, 300)]                     'lstm_2[0][2]']                 \n",
      "                                                                                                  \n",
      " time_distributed (TimeDistribu  (None, None, 1989)  598689      ['lstm_3[0][0]']                 \n",
      " ted)                                                                                             \n",
      "                                                                                                  \n",
      "==================================================================================================\n",
      "Total params: 5,329,289\n",
      "Trainable params: 5,329,289\n",
      "Non-trainable params: 0\n",
      "__________________________________________________________________________________________________\n"
     ]
    }
   ],
   "source": [
    "latent_dim = 300\n",
    "embedding_dim = 200\n",
    "\n",
    "# Encoder\n",
    "encoder_inputs = Input(shape=(max_text_len, ))\n",
    "\n",
    "# Embedding layer\n",
    "enc_emb = Embedding(x_voc, embedding_dim,\n",
    "                    trainable=True)(encoder_inputs)\n",
    "\n",
    "# Encoder LSTM 1\n",
    "encoder_lstm1 = LSTM(latent_dim, return_sequences=True,\n",
    "                     return_state=True, dropout=0.4,\n",
    "                     recurrent_dropout=0.4)\n",
    "(encoder_output1, state_h1, state_c1) = encoder_lstm1(enc_emb)\n",
    "\n",
    "# Encoder LSTM 2\n",
    "encoder_lstm2 = LSTM(latent_dim, return_sequences=True,\n",
    "                     return_state=True, dropout=0.4,\n",
    "                     recurrent_dropout=0.4)\n",
    "(encoder_output2, state_h2, state_c2) = encoder_lstm2(encoder_output1)\n",
    "\n",
    "# Encoder LSTM 3\n",
    "encoder_lstm3 = LSTM(latent_dim, return_state=True,\n",
    "                     return_sequences=True, dropout=0.4,\n",
    "                     recurrent_dropout=0.4)\n",
    "(encoder_outputs, state_h, state_c) = encoder_lstm3(encoder_output2)\n",
    "\n",
    "# Set up the decoder, using encoder_states as the initial state\n",
    "decoder_inputs = Input(shape=(None, ))\n",
    "\n",
    "# Embedding layer\n",
    "dec_emb_layer = Embedding(y_voc, embedding_dim, trainable=True)\n",
    "dec_emb = dec_emb_layer(decoder_inputs)\n",
    "\n",
    "# Decoder LSTM\n",
    "decoder_lstm = LSTM(latent_dim, return_sequences=True,\n",
    "                    return_state=True, dropout=0.4,\n",
    "                    recurrent_dropout=0.2)\n",
    "(decoder_outputs, decoder_fwd_state, decoder_back_state) = \\\n",
    "    decoder_lstm(dec_emb, initial_state=[state_h, state_c])\n",
    "\n",
    "# Dense layer\n",
    "decoder_dense = TimeDistributed(Dense(y_voc, activation='softmax'))\n",
    "decoder_outputs = decoder_dense(decoder_outputs)\n",
    "\n",
    "# Define the model\n",
    "model = Model([encoder_inputs, decoder_inputs], decoder_outputs)\n",
    "\n",
    "model.summary()"
   ]
  },
  {
   "cell_type": "code",
   "execution_count": 34,
   "metadata": {
    "id": "CVxl_wN7_Zdn"
   },
   "outputs": [],
   "source": [
    "model.compile(optimizer='rmsprop', loss='sparse_categorical_crossentropy')\n",
    "\n",
    "es = EarlyStopping(monitor='val_loss', mode='min', verbose=1, patience=2)"
   ]
  },
  {
   "cell_type": "markdown",
   "metadata": {},
   "source": [
    "#### Training the Model"
   ]
  },
  {
   "cell_type": "code",
   "execution_count": 35,
   "metadata": {
    "colab": {
     "base_uri": "https://localhost:8080/"
    },
    "id": "8vhKUkoT_djh",
    "outputId": "2155a13a-90c6-4637-e5d5-887ab6ab9f7e"
   },
   "outputs": [
    {
     "name": "stdout",
     "output_type": "stream",
     "text": [
      "Epoch 1/50\n",
      "324/324 [==============================] - 687s 2s/step - loss: 2.8036 - val_loss: 2.5546\n",
      "Epoch 2/50\n",
      "324/324 [==============================] - 669s 2s/step - loss: 2.4776 - val_loss: 2.4398\n",
      "Epoch 3/50\n",
      "324/324 [==============================] - 667s 2s/step - loss: 2.3405 - val_loss: 2.3268\n",
      "Epoch 4/50\n",
      "324/324 [==============================] - 649s 2s/step - loss: 2.2533 - val_loss: 2.2435\n",
      "Epoch 5/50\n",
      "324/324 [==============================] - 650s 2s/step - loss: 2.1732 - val_loss: 2.1887\n",
      "Epoch 6/50\n",
      "324/324 [==============================] - 655s 2s/step - loss: 2.1104 - val_loss: 2.1462\n",
      "Epoch 7/50\n",
      "324/324 [==============================] - 655s 2s/step - loss: 2.0584 - val_loss: 2.1188\n",
      "Epoch 8/50\n",
      "324/324 [==============================] - 657s 2s/step - loss: 2.0129 - val_loss: 2.0979\n",
      "Epoch 9/50\n",
      "324/324 [==============================] - 657s 2s/step - loss: 1.9718 - val_loss: 2.0706\n",
      "Epoch 10/50\n",
      "324/324 [==============================] - 660s 2s/step - loss: 1.9331 - val_loss: 2.0681\n",
      "Epoch 11/50\n",
      "324/324 [==============================] - 666s 2s/step - loss: 1.8981 - val_loss: 2.0572\n",
      "Epoch 12/50\n",
      "324/324 [==============================] - 661s 2s/step - loss: 1.8659 - val_loss: 2.0471\n",
      "Epoch 13/50\n",
      "324/324 [==============================] - 654s 2s/step - loss: 1.8344 - val_loss: 2.0432\n",
      "Epoch 14/50\n",
      "324/324 [==============================] - 662s 2s/step - loss: 1.8050 - val_loss: 2.0353\n",
      "Epoch 15/50\n",
      "324/324 [==============================] - 675s 2s/step - loss: 1.7764 - val_loss: 2.0357\n",
      "Epoch 16/50\n",
      "324/324 [==============================] - 677s 2s/step - loss: 1.7489 - val_loss: 2.0417\n",
      "Epoch 16: early stopping\n"
     ]
    }
   ],
   "source": [
    "history = model.fit(\n",
    "    [x_tr, y_tr[:, :-1]],\n",
    "    y_tr.reshape(y_tr.shape[0], y_tr.shape[1], 1)[:, 1:],\n",
    "    epochs=16,\n",
    "    callbacks=[es],\n",
    "    batch_size=128,\n",
    "    validation_data=([x_val, y_val[:, :-1]],\n",
    "                     y_val.reshape(y_val.shape[0], y_val.shape[1], 1)[:\n",
    "                     , 1:]),\n",
    "    )"
   ]
  },
  {
   "cell_type": "code",
   "execution_count": 36,
   "metadata": {
    "colab": {
     "base_uri": "https://localhost:8080/",
     "height": 265
    },
    "id": "ym76zXDT-WJS",
    "outputId": "eda81639-ff27-4a19-d441-8665c13ed44e"
   },
   "outputs": [
    {
     "data": {
      "image/png": "[encoded data removed]",
      "text/plain": [
       "<Figure size 432x288 with 1 Axes>"
      ]
     },
     "metadata": {
      "needs_background": "light"
     },
     "output_type": "display_data"
    }
   ],
   "source": [
    "from matplotlib import pyplot\n",
    "\n",
    "pyplot.plot(history.history['loss'], label='train')\n",
    "pyplot.plot(history.history['val_loss'], label='test')\n",
    "pyplot.legend()\n",
    "pyplot.show()"
   ]
  },
  {
   "cell_type": "code",
   "execution_count": 37,
   "metadata": {
    "id": "sBX0zZnOFxjW"
   },
   "outputs": [],
   "source": [
    "reverse_target_word_index=y_tokenizer.index_word\n",
    "reverse_source_word_index=x_tokenizer.index_word\n",
    "target_word_index=y_tokenizer.word_index"
   ]
  },
  {
   "cell_type": "markdown",
   "metadata": {},
   "source": [
    "### Inference\n",
    "After training, the model is tested on new source sequences for which the target sequence is unknown. So, we set up the inference architecture to decode a test sequence."
   ]
  },
  {
   "cell_type": "code",
   "execution_count": 38,
   "metadata": {
    "id": "9QkrNV-4Fxjt"
   },
   "outputs": [],
   "source": [
    "# Encode the input sequence to get the feature vector\n",
    "encoder_model = Model(inputs=encoder_inputs, outputs=[encoder_outputs,\n",
    "                      state_h, state_c])\n",
    "\n",
    "# Decoder setup\n",
    "\n",
    "# Below tensors will hold the states of the previous time step\n",
    "decoder_state_input_h = Input(shape=(latent_dim, ))\n",
    "decoder_state_input_c = Input(shape=(latent_dim, ))\n",
    "decoder_hidden_state_input = Input(shape=(max_text_len, latent_dim))\n",
    "\n",
    "# Get the embeddings of the decoder sequence\n",
    "dec_emb2 = dec_emb_layer(decoder_inputs)\n",
    "\n",
    "# To predict the next word in the sequence, set the initial states to the states from the previous time step\n",
    "(decoder_outputs2, state_h2, state_c2) = decoder_lstm(dec_emb2,\n",
    "        initial_state=[decoder_state_input_h, decoder_state_input_c])\n",
    "\n",
    "# A dense softmax layer to generate prob dist. over the target vocabulary\n",
    "decoder_outputs2 = decoder_dense(decoder_outputs2)\n",
    "\n",
    "# Final decoder model\n",
    "decoder_model = Model([decoder_inputs] + [decoder_hidden_state_input,\n",
    "                      decoder_state_input_h, decoder_state_input_c],\n",
    "                      [decoder_outputs2] + [state_h2, state_c2])"
   ]
  },
  {
   "cell_type": "code",
   "execution_count": 39,
   "metadata": {
    "id": "6f6TTFnBFxj6"
   },
   "outputs": [],
   "source": [
    "def decode_sequence(input_seq):\n",
    "\n",
    "    # Encode the input as state vectors.\n",
    "    (e_out, e_h, e_c) = encoder_model.predict(input_seq)\n",
    "\n",
    "    # Generate empty target sequence of length 1\n",
    "    target_seq = np.zeros((1, 1))\n",
    "\n",
    "    # Populate the first word of target sequence with the start word.\n",
    "    target_seq[0, 0] = target_word_index['sostok']\n",
    "\n",
    "    stop_condition = False\n",
    "    decoded_sentence = ''\n",
    "\n",
    "    while not stop_condition:\n",
    "        (output_tokens, h, c) = decoder_model.predict([target_seq]\n",
    "                + [e_out, e_h, e_c])\n",
    "\n",
    "        # Sample a token\n",
    "        sampled_token_index = np.argmax(output_tokens[0, -1, :])\n",
    "        sampled_token = reverse_target_word_index[sampled_token_index]\n",
    "\n",
    "        if sampled_token != 'eostok':\n",
    "            decoded_sentence += ' ' + sampled_token\n",
    "\n",
    "        # Exit condition: either hit max length or find the stop word.\n",
    "        if sampled_token == 'eostok' or len(decoded_sentence.split()) \\\n",
    "            >= max_summary_len - 1:\n",
    "            stop_condition = True\n",
    "\n",
    "        # Update the target sequence (of length 1)\n",
    "        target_seq = np.zeros((1, 1))\n",
    "        target_seq[0, 0] = sampled_token_index\n",
    "\n",
    "        # Update internal states\n",
    "        (e_h, e_c) = (h, c)\n",
    "\n",
    "    return decoded_sentence"
   ]
  },
  {
   "cell_type": "markdown",
   "metadata": {},
   "source": [
    "Below are the functions to convert an integer sequence to a word sequence for summary as well as the reviews"
   ]
  },
  {
   "cell_type": "code",
   "execution_count": 40,
   "metadata": {
    "id": "aAUntznIFxj9"
   },
   "outputs": [],
   "source": [
    "# To convert sequence to summary\n",
    "def seq2summary(input_seq):\n",
    "    newString = ''\n",
    "    for i in input_seq:\n",
    "        if i != 0 and i != target_word_index['sostok'] and i \\\n",
    "            != target_word_index['eostok']:\n",
    "            newString = newString + reverse_target_word_index[i] + ' '\n",
    "\n",
    "    return newString\n",
    "\n",
    "\n",
    "# To convert sequence to text\n",
    "def seq2text(input_seq):\n",
    "    newString = ''\n",
    "    for i in input_seq:\n",
    "        if i != 0:\n",
    "            newString = newString + reverse_source_word_index[i] + ' '\n",
    "\n",
    "    return newString"
   ]
  },
  {
   "cell_type": "markdown",
   "metadata": {},
   "source": [
    "### Printing few summaries"
   ]
  },
  {
   "cell_type": "code",
   "execution_count": 42,
   "metadata": {
    "colab": {
     "base_uri": "https://localhost:8080/"
    },
    "id": "BUtQmQTmFxkI",
    "outputId": "83c48362-bfe8-4079-c66c-4c7f013b0d16"
   },
   "outputs": [
    {
     "name": "stdout",
     "output_type": "stream",
     "text": [
      "Review: gave caffeine shakes heart anxiety attack plus tastes unbelievably bad stick coffee tea soda thanks \n",
      "Original summary: hour \n",
      "Predicted summary:  not for me\n",
      "\n",
      "\n",
      "Review: got great course good belgian chocolates better \n",
      "Original summary: would like to give it stars but \n",
      "Predicted summary:  great\n",
      "\n",
      "\n",
      "Review: one best flavored coffees tried usually like flavored coffees one great serve company love \n",
      "Original summary: delicious \n",
      "Predicted summary:  great coffee\n",
      "\n",
      "\n",
      "Review: salt separate area pain makes hard regulate salt putting like salt go ahead get product \n",
      "Original summary: tastes ok packaging \n",
      "Predicted summary:  not too salty\n",
      "\n",
      "\n",
      "Review: really like product super easy order online delivered much cheaper buying gas station stocking good long drives \n",
      "Original summary: turkey jerky is great \n",
      "Predicted summary:  great taste\n",
      "\n",
      "\n",
      "Review: best salad dressing delivered promptly quantities last vidalia onion dressing compares made oak hill farms sometimes find costco order front door want even orders cut shipping costs \n",
      "Original summary: my favorite salad dressing \n",
      "Predicted summary:  best\n",
      "\n",
      "\n",
      "Review: think sitting around warehouse long time took long time send got tea tasted like cardboard red rasberry leaf tea know supposed taste like \n",
      "Original summary: stale \n",
      "Predicted summary:  not very good\n",
      "\n",
      "\n",
      "Review: year old cat special diet digestive problems also diabetes stopped eating usual special formula food tried different kinds catfood one liked easy digestion diabetes thank newman \n",
      "Original summary: wonderful \n",
      "Predicted summary:  great food\n",
      "\n",
      "\n",
      "Review: always perfect snack dog loves knows exactly starts ask time evening gets greenie snack thank excellent product fast delivery \n",
      "Original summary: greenies buddy treat \n",
      "Predicted summary:  great\n",
      "\n",
      "\n",
      "Review: dog loves tiny treats keep one car one house \n",
      "Original summary: dog loves them \n",
      "Predicted summary:  great\n",
      "\n",
      "\n",
      "Review: liked coffee much subscribing dark rich smooth \n",
      "Original summary: makes great cup of java \n",
      "Predicted summary:  great coffee\n",
      "\n",
      "\n",
      "Review: far dog tried chicken peanut butter flavor absolutely loves love natural makes happy giving dog something healthy treats small soft big plus calories \n",
      "Original summary: love zuke mini naturals \n",
      "Predicted summary:  great for training\n",
      "\n",
      "\n",
      "Review: absolutely delicious satisfy something sweet really filling great early morning time make breakfast great afternoon snack work feeling sluggish \n",
      "Original summary: protein bar \n",
      "Predicted summary:  great snack\n",
      "\n",
      "\n",
      "Review: aware decaf coffee although showed search decaf cups intended purchase gift kept recipient drink caffeine favorite means \n",
      "Original summary: not decaf \n",
      "Predicted summary:  not what expected\n",
      "\n",
      "\n",
      "Review: wonderful wrote perfect iced cookie one pen writing cookies names happy ca \n",
      "Original summary: cookie \n",
      "Predicted summary:  delicious\n",
      "\n",
      "\n",
      "Review: truffle oil quite good prefer brand france urbani italy expensive oh delicious tried black white good black bit stronger pungent event healthy alternative butter enjoy \n",
      "Original summary: delicious but not the best \n",
      "Predicted summary:  delicious\n",
      "\n",
      "\n",
      "Review: enjoy coffee office split right middle loving think worth try order regularly \n",
      "Original summary: hit or miss \n",
      "Predicted summary:  good\n",
      "\n",
      "\n",
      "Review: husband gluten free food several years tried several different bread mixes first actually enjoys buying amazon saves loaf \n",
      "Original summary: really good gluten free bread \n",
      "Predicted summary:  great bread\n",
      "\n",
      "\n",
      "Review: hubby eats says good snacks morning done apple flavor \n",
      "Original summary: really good nice snack \n",
      "Predicted summary:  great snack\n",
      "\n",
      "\n",
      "Review: waste money disgusting product chocolate taste tastes like plastic lining paper carton using milk treated ultra high temperatures like fresh milk go get fresh milk hershey syrup want chocolate milk \n",
      "Original summary: please do not waste your money \n",
      "Predicted summary:  yuck\n",
      "\n",
      "\n",
      "Review: absolutely loves apple chicken happy hips looks forward one morning one night gets soooo excited would eat allowed \n",
      "Original summary: healthy treats \n",
      "Predicted summary:  great\n",
      "\n",
      "\n",
      "Review: strong much flavor little aroma tried purchase another time similiar brands met standards expected \n",
      "Original summary: no flavor \n",
      "Predicted summary:  ok\n",
      "\n",
      "\n",
      "Review: company wanted chose order anyway \n",
      "Original summary: water \n",
      "Predicted summary:  great product\n",
      "\n",
      "\n",
      "Review: introduced number people hooked best sour gummy ever great flavors got great price \n",
      "Original summary: new favorite \n",
      "Predicted summary:  delicious\n",
      "\n",
      "\n",
      "Review: new price attractive however tastes horrible maybe old zico coconut water brands might find acceptable \n",
      "Original summary: do not be by the price \n",
      "Predicted summary:  tastes like plastic\n",
      "\n",
      "\n",
      "Review: sure ever going buy product way expensive market price \n",
      "Original summary: too expensive \n",
      "Predicted summary:  price\n",
      "\n",
      "\n",
      "Review: flavor normally find local stores plus buy bulk things take savings add veggies even stir egg noodles cook add nutrition quick meals lot extra \n",
      "Original summary: good value \n",
      "Predicted summary:  great tasting\n",
      "\n",
      "\n",
      "Review: order tea labeled decaff must caffeine residue levels tested tea caffeine decaff non decaff tea anywhere caffeine caffeine caffeinated tea caffeine slightly less naturally present tea leaf \n",
      "Original summary: caffeine is not \n",
      "Predicted summary:  not bad for\n",
      "\n",
      "\n",
      "Review: excellent babies toddler really best offer little one delicious rich vitamins calcium protein low fat sorry products available website \n",
      "Original summary: excellent product for babies and toddler \n",
      "Predicted summary:  great\n",
      "\n",
      "\n",
      "Review: purchased item dented would bet run dented product clearing ship ones \n",
      "Original summary: sometimes dented \n",
      "Predicted summary:  dented cans\n",
      "\n",
      "\n",
      "Review: almost tastes like mini blueberry pie love one favorite thoroughly fallen love \n",
      "Original summary: excellent love the blueberry pecan \n",
      "Predicted summary:  love it\n",
      "\n",
      "\n",
      "Review: dog loves keeps busy minutes long time chew hound \n",
      "Original summary: chew away \n",
      "Predicted summary:  great\n",
      "\n",
      "\n",
      "Review: plant came quickly looks great office nice pot plant thriving well \n",
      "Original summary: very nice office plant \n",
      "Predicted summary:  very pleased\n",
      "\n",
      "\n",
      "Review: dog loves lickety stik bacon flavor since likes much plan getting flavors great liquid treat dog highly recommend lickety stik \n",
      "Original summary: great dog treat \n",
      "Predicted summary:  great for your dog\n",
      "\n",
      "\n",
      "Review: great toy dogs chew everything else little literally eats toys one toys yet destroy loves carries around everywhere got rex cutest thing \n",
      "Original summary: good for chewers \n",
      "Predicted summary:  good for dog\n",
      "\n",
      "\n",
      "Review: really search good deals tea tea great price tea amazon almost cup price cup coffee herbal varieties low caffine good option wife used dinner coffe \n",
      "Original summary: great price for great tea \n",
      "Predicted summary:  great tea\n",
      "\n",
      "\n",
      "Review: pricey essentially small bag hard crumbs maybe dog spoiled treats like third class treats definitely bottom doggie treat often simply walk away glad people like buying \n",
      "Original summary: waste of money \n",
      "Predicted summary:  not for dogs\n",
      "\n",
      "\n",
      "Review: little pricey consider sugar low cal caffine really rich flavor best chai ever found \n",
      "Original summary: fabulous product \n",
      "Predicted summary:  delicious\n",
      "\n",
      "\n",
      "Review: loves taste beef freeze dried dog treats use training really works \n",
      "Original summary: dog lover \n",
      "Predicted summary:  great\n",
      "\n",
      "\n",
      "Review: three dogs cairn terriers year old border collie proud greenies like taste helps keep gums teeth good shape \n",
      "Original summary: our dogs love greenies \n",
      "Predicted summary:  great\n",
      "\n",
      "\n",
      "Review: good soft drink smooth strawberry cream soda tasty \n",
      "Original summary: good stuff \n",
      "Predicted summary:  great\n",
      "\n",
      "\n",
      "Review: item arrived sugar free shipped regular version caramel syrup small internal sticker bottle stated sugar free although company label bottle stated regular version \n",
      "Original summary: wrong item \n",
      "Predicted summary:  not what expected\n",
      "\n",
      "\n",
      "Review: like strong coffee coffee rated found weak sickening taste \n",
      "Original summary: disapointed \n",
      "Predicted summary:  not as good as expected\n",
      "\n",
      "\n",
      "Review: saw peanut butter chocolate cereal knew try pleased eat chocolate breakfast feel guilty two kids love cereal well great eat alone favorite milk product yogurt mix homemade granola well \n",
      "Original summary: the yummy \n",
      "Predicted summary:  delicious\n",
      "\n",
      "\n",
      "Review: begging time loves used buy small bottle buying every weeks since saw oz buying last lot longer gas money cheaper buy online \n",
      "Original summary: my dog loves it \n",
      "Predicted summary:  great\n",
      "\n",
      "\n",
      "Review: true also need decent scale tried caviar recipe everything worked perfectly first try fun easy make kit comes large enough samples looks like good uses \n",
      "Original summary: great to \n",
      "Predicted summary:  great product\n",
      "\n",
      "\n",
      "Review: dog really likes treats like buy run mill treats loaded fat fillers continue buy \n",
      "Original summary: buddy biscuits \n",
      "Predicted summary:  great\n",
      "\n",
      "\n",
      "Review: tulsi green tea great good iced tea well \n",
      "Original summary: green tea \n",
      "Predicted summary:  great tea\n",
      "\n",
      "\n",
      "Review: always put something market couple poof gone best tasting product pepsi \n",
      "Original summary: best taste \n",
      "Predicted summary:  best\n",
      "\n",
      "\n",
      "Review: like tomatoes fresh flavorful also come carton welcome alternative metal cans impart flavor sometimes lined plastic containing \n",
      "Original summary: yummy tomatoes good packaging \n",
      "Predicted summary:  good stuff\n",
      "\n",
      "\n",
      "Review: great get habit forming careful bought whole case save overall versus going supermarket rich dark chocolate crisp cookie worth every penny oreo eat heart \n",
      "Original summary: delicious \n",
      "Predicted summary:  delicious\n",
      "\n",
      "\n",
      "Review: else say arrived promptly perhaps time expected expiration date like next day good go \n",
      "Original summary: baby loves it \n",
      "Predicted summary:  too expensive\n",
      "\n",
      "\n",
      "Review: bought local recently advertised cheesy flavor detectable product even salt flavor avoid product \n",
      "Original summary: no cheese flavor \n",
      "Predicted summary:  not too salty\n",
      "\n",
      "\n",
      "Review: big volume coffee morning one great \n",
      "Original summary: great morning coffee \n",
      "Predicted summary:  great coffee\n",
      "\n",
      "\n",
      "Review: drank try keep awake fell asleep minutes drinking feel anything \n",
      "Original summary: it made me fall \n",
      "Predicted summary:  it is ok\n",
      "\n",
      "\n",
      "Review: drink cups day verona italian french roast coffee wanted try lower acid version brand coffee smells tastes like vinegar totally unpalatable better drinking water acid coffee bothers \n",
      "Original summary: single worst coffee ever \n",
      "Predicted summary:  worst coffee ever\n",
      "\n",
      "\n",
      "Review: getting price however afraid stocking anymore reduced price think one trying eat crackers low calorie string cheese breakfast every total calories put breakfast baggie go \n",
      "Original summary: am addicted to these \n",
      "Predicted summary:  great snack\n",
      "\n",
      "\n",
      "Review: first time using fondarific fondant general one really easy use baby shower cake worked indicated also colored made two tier cake final product looked great greasy \n",
      "Original summary: easy to use \n",
      "Predicted summary:  great for\n",
      "\n",
      "\n",
      "Review: work home drink cups cup coffee day good tasting coffee lowest price cup market \n",
      "Original summary: great coffee great price \n",
      "Predicted summary:  coffee\n",
      "\n",
      "\n",
      "Review: guys say natural really tastes great pleasantly surprised stand flavor carbonated think would even better product time come fed sweet juices aftertaste make obvious really natural switch really gets vote \n",
      "Original summary: great taste all natural \n",
      "Predicted summary:  great taste\n",
      "\n",
      "\n",
      "Review: product good goes long way quite good one dd good product less \n",
      "Original summary: very good \n",
      "Predicted summary:  good\n",
      "\n",
      "\n",
      "Review: tea wonderful soothing even soothing get shipped house found hard find decaffeinated tea grocery store much easier \n",
      "Original summary: decaffeinated french vanilla tea yummy \n",
      "Predicted summary:  great tea\n",
      "\n",
      "\n",
      "Review: wow little calorie espresso sugar serve cold delicious little shot espresso sugar overly sweet sugar helps offset taste espresso caffe bitter sweet tastes good really gave afternoon kick pants \n",
      "Original summary: nice little pick me up \n",
      "Predicted summary:  great taste\n",
      "\n",
      "\n",
      "Review: mayonnaise delicious side side taste test would give hellman edge hellman richer taste \n",
      "Original summary: excellent but \n",
      "Predicted summary:  good but not great\n",
      "\n",
      "\n",
      "Review: love medium full flavored roast smooth taste bitter acidic taste excellent coffee good value also try timothy kona good also \n",
      "Original summary: wonderful coffee \n",
      "Predicted summary:  great coffee\n",
      "\n",
      "\n",
      "Review: nice item chunks meat good gravy cat fond varieties nice little treat nonetheless think item bit pricy per ounce \n",
      "Original summary: nice but pricey \n",
      "Predicted summary:  good but not great\n",
      "\n",
      "\n",
      "Review: bought cookies gifts open last long good make great gifts would definitely buy \n",
      "Original summary: mouth watery cookies \n",
      "Predicted summary:  great cookies\n",
      "\n",
      "\n",
      "Review: great price fast shipping best chips better ingredients less calories snack foods plus taste like real chips \n",
      "Original summary: pop chips are the best \n",
      "Predicted summary:  pop chips\n",
      "\n",
      "\n",
      "Review: taco bell chipotle sauce bold flavorful tried chicken wings tacos salad made dish extremely tasty glad sampled new sauce staple condiment \n",
      "Original summary: bold flavor \n",
      "Predicted summary:  very tasty\n",
      "\n",
      "\n",
      "Review: bought seeds make centerpieces really surprised fast grow planted seeds potting soil without ny preparation anything kept watering days super tall ready displayed centerpieces perfect \n",
      "Original summary: perfect for in days \n",
      "Predicted summary:  great for\n",
      "\n",
      "\n",
      "Review: every time need sun dried tomatoes local grocery stores conveniently small pouches ensure always hand called recipe \n",
      "Original summary: sun dried tomato bliss \n",
      "Predicted summary:  great\n",
      "\n",
      "\n",
      "Review: love soup eat plain use recipe cannot find area glad amazon \n",
      "Original summary: soup chicken cheese \n",
      "Predicted summary:  delicious\n",
      "\n",
      "\n",
      "Review: size quite good dog training smell strong cannot put open bag must seal everytime gave treat otherwise dog stand trying fetch believe taste great puppy purchase sure \n",
      "Original summary: strong smell and my puppy loves it \n",
      "Predicted summary:  great\n",
      "\n",
      "\n",
      "Review: love chips auto order every months taste great whole bag calories bag every day sure helped weight loss little bags eat huge amount \n",
      "Original summary: great purchase \n",
      "Predicted summary:  love these chips\n",
      "\n",
      "\n",
      "Review: many kit wines cost three four times made many kits find fine table wine recommend adding water five gallon mark flavor \n",
      "Original summary: good wine \n",
      "Predicted summary:  great\n",
      "\n",
      "\n",
      "Review: sooo much pepper heavy salt reminds adams trick food cannot eat seriously fresh nuts seasoned \n",
      "Original summary: over the top seasoning \n",
      "Predicted summary:  great\n",
      "\n",
      "\n",
      "Review: loved brand best vanilla flavor others tried would buy better price \n",
      "Original summary: wolfgang puck coffee vanilla \n",
      "Predicted summary:  great\n",
      "\n",
      "\n",
      "Review: another brand cinammon carried amazon much better tasting brand maybe packaging part problem simple plastic bag tie amazon brand comes carefully set plastic box \n",
      "Original summary: edible have had much better \n",
      "Predicted summary:  not as good as expected\n",
      "\n",
      "\n",
      "Review: throw pack one actually taste bad especially compared orange tangerine like carbonation adds juice flavors need work switch drinks best worst watermelon strawberry kiwi berry black cherry orange tangerine \n",
      "Original summary: my favorite of the four tried \n",
      "Predicted summary:  tastes like\n",
      "\n",
      "\n",
      "Review: daughter drinking since months old months old still loves snack time healthy delicious great addition menu \n",
      "Original summary: great snack \n",
      "Predicted summary:  great snack\n",
      "\n",
      "\n",
      "Review: live guinea africa order products delivered boat every months sometimes disappointed time zero calories zero carbs taste great price zero delivery costs prime ordered different flavors one favorite love \n",
      "Original summary: love it \n",
      "Predicted summary:  great taste\n",
      "\n",
      "\n",
      "Review: purchased larger size love size perfect keep purse snack especially times others dessert snack cannot eat must gluten free spouse touch diet food loves \n",
      "Original summary: cannot get enough \n",
      "Predicted summary:  great snack\n",
      "\n",
      "\n",
      "Review: always house drink favorite mix sprite oh good every day mind larger bottles use much bring \n",
      "Original summary: am an adult still love this \n",
      "Predicted summary:  love this stuff\n",
      "\n",
      "\n",
      "Review: ginger snaps overpowering ginger go great milk really enjoyed house great buy affordable compared alternative diet foods last least week store well \n",
      "Original summary: you can eat ginger again \n",
      "Predicted summary:  great taste\n",
      "\n",
      "\n",
      "Review: give squid one star use might thoroughly disappointed quite possibly call crazy \n",
      "Original summary: can for your \n",
      "Predicted summary:  not\n",
      "\n",
      "\n",
      "Review: quality seeds excellent begin germinate hours days ready use never sprouted seeds results good easily recommend sprouter whether human consumption four legged friends \n",
      "Original summary: wheat grass seeds \n",
      "Predicted summary:  good product\n",
      "\n",
      "\n",
      "Review: love stuff great store bought homemade baked goods kicking things professional level works colored dark light frosting also used dusting powdered sugar pretty fine texture \n",
      "Original summary: fun like dust \n",
      "Predicted summary:  great for\n",
      "\n",
      "\n",
      "Review: bought jumbo greenies black lab loved way expensive regular use notice difference breath primary reason buying \n",
      "Original summary: jumbo greenies good but very expensive \n",
      "Predicted summary:  great\n",
      "\n",
      "\n",
      "Review: also bought costco per box included bags oz kids fighting remaining bags good buying due price high price prevent product reaching mass distribution \n",
      "Original summary: very good but too pricey \n",
      "Predicted summary:  good but pricey\n",
      "\n",
      "\n",
      "Review: originally found mints whole foods taste superb get lot money plus comes cute little tin uses dog loves go organic \n",
      "Original summary: wonderful \n",
      "Predicted summary:  great\n",
      "\n",
      "\n",
      "Review: regular spam awful almost inedible would give tastes like animal know mean fellow spam turkey spam pretty good great would give worth try \n",
      "Original summary: better than regular \n",
      "Predicted summary:  tastes like\n",
      "\n",
      "\n",
      "Review: really need know many cans also whitefish tuna buffet canned cat food thanks \n",
      "Original summary: need to know how many in case \n",
      "Predicted summary:  great\n",
      "\n",
      "\n",
      "Review: great tasting rich flavor perfect making nice hot cup mocha bought test hershey syrup mocha incredible distinct taste difference noticeable much richer tastes like chocolate less sugary hershey syrup \n",
      "Original summary: great taste \n",
      "Predicted summary:  great taste\n",
      "\n",
      "\n",
      "Review: number one japan number one great save get shipped automatically every month lugging car \n",
      "Original summary: great tea \n",
      "Predicted summary:  great\n",
      "\n",
      "\n",
      "Review: bought item read best mayo sold yes even better worlds favorite hellman well review good bit better hellman fact put empty hellman jar said nothing family never knew difference \n",
      "Original summary: blue mayo \n",
      "Predicted summary:  best\n",
      "\n",
      "\n",
      "Review: gum great makes car smell good leave refreshing sweet tart smooth \n",
      "Original summary: love the gum and the price \n",
      "Predicted summary:  great flavor\n",
      "\n",
      "\n",
      "Review: flavorful smells like heaven great price compared stores arrived fast \n",
      "Original summary: divine \n",
      "Predicted summary:  great coffee\n",
      "\n",
      "\n",
      "Review: love low calorie organic doctors recommend grams fiber daily smart bran grams per serving fruits veggies set day eat dry vanilla frozen yogurt cinnamon \n",
      "Original summary: yes to smart bran \n",
      "Predicted summary:  great for\n",
      "\n",
      "\n",
      "Review: found spice blend dallas years back tell restaurant using grilled shrimp like cajun spice grilling fish recommend store dry place replace every year least lose flavor \n",
      "Original summary: good stuff \n",
      "Predicted summary:  great flavor\n",
      "\n",
      "\n",
      "Review: plain riceselect couscous delicious easy quick prepare great side item base main course far found bad product riceselect \n",
      "Original summary: yummy \n",
      "Predicted summary:  great\n",
      "\n",
      "\n",
      "Review: crackers tastiest gluten free crackers found looking years break easy though spreading anything firmer peanut butter often result breakage great taste willing flaw \n",
      "Original summary: great tasting crackers \n",
      "Predicted summary:  great for gluten free\n",
      "\n",
      "\n",
      "Review: loves needs meds twice day time minutes waiting reminds us playing games opening mouth pill waiting see spits great product \n",
      "Original summary: easy to give pets \n",
      "Predicted summary:  great\n",
      "\n",
      "\n",
      "Review: believe product old expired stored incorrectly half kernels popped kernels pop odd chewy stale texture would recommend buying company \n",
      "Original summary: poor quality \n",
      "Predicted summary:  poor quality\n",
      "\n",
      "\n",
      "Review: really like full bodied flavor tea also claimed health properties take look used black tea fits bill \n",
      "Original summary: love this tea \n",
      "Predicted summary:  great tea\n",
      "\n",
      "\n",
      "Review: cookies turn perfect every time people work could believe made tell gluten free probably would tried need eat gluten free sometimes think healthier alternative sweet treats \n",
      "Original summary: this is really delicious \n",
      "Predicted summary:  great for\n",
      "\n",
      "\n",
      "Review: gevalia french roast coffee fresh tasting bold fantastic considering coffee really love \n",
      "Original summary: great bold coffee \n",
      "Predicted summary:  great coffee\n",
      "\n",
      "\n",
      "Review: simply best soda better others say amazon get locally asking grocer order cases best taste opinion grape black cherry ginger ale drink soda tasting stuff \n",
      "Original summary: the best \n",
      "Predicted summary:  best chocolate ever\n",
      "\n",
      "\n",
      "Review: nice price glad see subscribe save option cups however undrinkable opinion seem watery like another reviewer said bad taste \n",
      "Original summary: good price bad taste \n",
      "Predicted summary:  too much\n",
      "\n",
      "\n",
      "Review: dog loves treat teeth cleaner gums look great teeth cleaned vet \n",
      "Original summary: does the \n",
      "Predicted summary:  great\n",
      "\n",
      "\n",
      "Review: trust dog treats china wish amazon would start made america category love amazon prime account would willing pay dollars prime usa account \n",
      "Original summary: great product but it is from china \n",
      "Predicted summary:  made in china\n",
      "\n",
      "\n",
      "Review: product arrived quickly great missed canned pumpkin year glad find online \n",
      "Original summary: organic canned pumpkin \n",
      "Predicted summary:  great product\n",
      "\n",
      "\n",
      "Review: use dogs teething works love thus touch others supposed also put meat peanut butter bone bored love \n",
      "Original summary: love it \n",
      "Predicted summary:  great for\n",
      "\n",
      "\n",
      "Review: quite bland add sriracha oh tastes really good much though \n",
      "Original summary: meh \n",
      "Predicted summary:  not bad\n",
      "\n",
      "\n",
      "Review: oz bag oz bag misleading product thought buying oz bags happy gone local dollars per bag \n",
      "Original summary: not oz this is oz bag \n",
      "Predicted summary:  not what expected\n",
      "\n",
      "\n",
      "Review: one best coffees ever smooth taste perfect roast well worth fact pricey coffee coffee lover illy \n",
      "Original summary: love this coffee \n",
      "Predicted summary:  best coffee ever\n",
      "\n",
      "\n",
      "Review: love popcorn use bar everybody loves big hit customers microwave popcorn us love much even buy use home \n",
      "Original summary: awesome popcorn \n",
      "Predicted summary:  great popcorn\n",
      "\n",
      "\n",
      "Review: good coffee strong weak enjoyed much continue order brand coffee future thanks much \n",
      "Original summary: fog coffee \n",
      "Predicted summary:  good coffee\n",
      "\n",
      "\n",
      "Review: kind reminded dried part piece cheese exposed air hidden dairy drawer would buy actually tossed boxes purchase product came recommended friend guessing matter taste \n",
      "Original summary: not for me \n",
      "Predicted summary:  not as advertised\n",
      "\n",
      "\n",
      "Review: thing liked came small packages delivered quickly fresh \n",
      "Original summary: haribo gummi candy \n",
      "Predicted summary:  good\n",
      "\n",
      "\n",
      "Review: love wintergreen altoids could find stores shop went line found website ordered thru amazon love amazon even gift card sister able use pay altoids smooth easy problems \n",
      "Original summary: review \n",
      "Predicted summary:  great product\n",
      "\n",
      "\n",
      "Review: eat like like something substance eat know eating something healthy taste good reasonably priced \n",
      "Original summary: great snack \n",
      "Predicted summary:  good\n",
      "\n",
      "\n",
      "Review: really love product daughter hates veggies loves replacement actual veggies makes feel good least getting something \n",
      "Original summary: easy and convenient \n",
      "Predicted summary:  great\n",
      "\n",
      "\n",
      "Review: family loves dumplings especially glad find searching quite time great eats \n",
      "Original summary: noodles \n",
      "Predicted summary:  great\n",
      "\n",
      "\n",
      "Review: good coffee ease prep taste major really comes time relaxing enhanced flavor \n",
      "Original summary: coffee for keurig \n",
      "Predicted summary:  good\n",
      "\n",
      "\n",
      "Review: product even remotely flavored like oven roasted turkey want item cancelled also spam products flavorful much salty \n",
      "Original summary: disappointed \n",
      "Predicted summary:  not as good as expected\n",
      "\n",
      "\n",
      "Review: bag got seemed mostly lemon lime gummy bears flavor good expected fine kids grandkids like ok adult disappointed even kids said ok decided order \n",
      "Original summary: taste was not as good as expected \n",
      "Predicted summary:  not good\n",
      "\n",
      "\n",
      "Review: shopping sugar free cookies suggested sugar free cookies selected unfortunately diabetic received lucy chocolate chip cookies assorted flavors sugar free would suggest idea upset \n",
      "Original summary: item says lucy chip \n",
      "Predicted summary:  not bad\n",
      "\n",
      "\n",
      "Review: best friend got chai best come across big train makes kinds flavors tried several raspberry personal favorite powder makes flavorful milky hot drink easier stomach coffee tastes better coffee ever \n",
      "Original summary: this stuff is great \n",
      "Predicted summary:  best chai ever\n",
      "\n",
      "\n",
      "Review: diabetic good alternative sweetners low glycemic index value makes desirable product quality almost identical sugar provides great deal nutritional value expensive though compared refined sugar decide value highly recommended \n",
      "Original summary: good sugar substitute \n",
      "Predicted summary:  great tasting\n",
      "\n",
      "\n",
      "Review: definitely best mix drink ever ordering immediately pass one believe flavor side slightly expensive side worth every penny \n",
      "Original summary: wow \n",
      "Predicted summary:  best\n",
      "\n",
      "\n",
      "Review: cake moist overly sweet frosting tasted decadent without artificial aftertaste cake hard see ones top cake made definitely make look forward trying flavors \n",
      "Original summary: kids and adults loved it \n",
      "Predicted summary:  delicious\n",
      "\n",
      "\n",
      "Review: good cup coffee looking nice cup wake light blend overpowering taste prefer bolder blends husband likes light compromise blend enjoy much \n",
      "Original summary: good cup of coffee \n",
      "Predicted summary:  good but not great\n",
      "\n",
      "\n",
      "Review: coffee arrived time fresh value good always use amazon purchase specialty coffee \n",
      "Original summary: pecan coffee \n",
      "Predicted summary:  great coffee\n",
      "\n",
      "\n",
      "Review: used lollipops candy princess daughter came perfect condition exactly like picture shows come group great value extremely satisfied \n",
      "Original summary: perfect lollipops \n",
      "Predicted summary:  great gift\n",
      "\n",
      "\n",
      "Review: tasty refreshing little drink one best orange drinks find anywhere wish bigger good \n",
      "Original summary: excellent excellent excellent \n",
      "Predicted summary:  great tasting\n",
      "\n",
      "\n",
      "Review: healthier chip less salt fat like better salted regular chips market flavor great nice crunchy absolutely worth try \n",
      "Original summary: good product \n",
      "Predicted summary:  great chips\n",
      "\n",
      "\n",
      "Review: bought item conjunction popcorn machine gift recipient loves get many years use machine know get portion packs \n",
      "Original summary: popcorn lover \n",
      "Predicted summary:  great popcorn\n",
      "\n",
      "\n",
      "Review: great product gave tablets away family friends loved made anything citric acid sweet even made fruits sweeter real experience \n",
      "Original summary: miracle indeed \n",
      "Predicted summary:  great product\n",
      "\n",
      "\n",
      "Review: love product comes convienient travel pack recommend classic almond butter plain salt sugar added recently tried maple almond butter honey almond butter enjoyed immensely \n",
      "Original summary: but bland \n",
      "Predicted summary:  delicious\n",
      "\n",
      "\n",
      "Review: paper makes pizza kit super easy follow size shape paper form dough pizza crust also since add toppings pizza healthy mood \n",
      "Original summary: homemade pizza \n",
      "Predicted summary:  great gluten free baking mix\n",
      "\n",
      "\n",
      "Review: far best gluten free noodles tried hold well boiling taste good love \n",
      "Original summary: good gluten free noodles \n",
      "Predicted summary:  great gluten free pasta\n",
      "\n",
      "\n",
      "Review: awesome thomas pez dispensers got son rd birthday party everyone loved lemon flavored candy tasty kids ate anyway would recommend children ages \n",
      "Original summary: awesome pez \n",
      "Predicted summary:  great\n",
      "\n",
      "\n",
      "Review: dog allergies eats special diet loves treats recommended vet diet consists natural balance limited ingredients \n",
      "Original summary: doggy treats \n",
      "Predicted summary:  great\n",
      "\n",
      "\n",
      "Review: good ever son wife love wish could get larger size amazon beat prices way get better deal buy hawaii \n",
      "Original summary: nuts to you \n",
      "Predicted summary:  love this\n",
      "\n",
      "\n",
      "Review: hands best cuban coffee good neither matches intense aroma rich flavor la strong overpowering bitter highly recommend trying brand like strong espresso \n",
      "Original summary: amazing coffee \n",
      "Predicted summary:  best coffee ever\n",
      "\n",
      "\n",
      "Review: sometimes feel reach decaffeinated cup going settle less flavor however completely happy product feel missing anything everyday treat relaxing cup coffee work starting dinner product fits looking \n",
      "Original summary: what great cup of coffee \n",
      "Predicted summary:  it is ok\n",
      "\n",
      "\n",
      "Review: tea delicious bitterness great flavor downside good one brewing cost low enough single brew acceptable \n",
      "Original summary: no \n",
      "Predicted summary:  great tea\n",
      "\n",
      "\n",
      "Review: got make healthy version strawberry cereal using whatever cereal add good taste need use within weeks begin get soft great price well easy take car kids \n",
      "Original summary: great crunch and taste \n",
      "Predicted summary:  great cereal\n",
      "\n",
      "\n",
      "Review: dark magic good cup coffee little bitter good strong anytime day \n",
      "Original summary: good cup of coffee \n",
      "Predicted summary:  good coffee\n",
      "\n",
      "\n",
      "Review: bit amazon improved packaging delightful biscuits back ways every single packet broken crumbly shame amazon \n",
      "Original summary: awful packaging is back \n",
      "Predicted summary:  not the best\n",
      "\n",
      "\n",
      "Review: really love brand coffee coffee nut enjoy drinking nice smooth great tasting go wrong choice \n",
      "Original summary: love this brand of coffee \n",
      "Predicted summary:  great coffee\n",
      "\n",
      "\n",
      "Review: family hates hamburger helper expected however eat gourmet food even great food edible quick hassle meal clean breeze cooks skillet would make time keep box pantry emergency meals \n",
      "Original summary: it is not awful \n",
      "Predicted summary:  not for me\n",
      "\n",
      "\n",
      "Review: best noodle ever every time add eggs vegies try never forget \n",
      "Original summary: the best noodle have ever had \n",
      "Predicted summary:  best\n",
      "\n",
      "\n",
      "Review: coffee wife drink keurig butter toffee mellow taste flavoring powering right \n",
      "Original summary: great \n",
      "Predicted summary:  best coconut water\n",
      "\n",
      "\n",
      "Review: sooooo good addictive know carrot chips fries carrot chips think potato chips vs corn chips trying use either love hate entire family craves \n",
      "Original summary: love these \n",
      "Predicted summary:  pop chips\n",
      "\n",
      "\n",
      "Review: tasty chip texture thought slight cracker flavor really like sweet potatos really enjoyed neat way keep kids healthy also great way get older people eat healthy \n",
      "Original summary: unusual but good \n",
      "Predicted summary:  tasty but not great\n",
      "\n",
      "\n",
      "Review: dog loves sweet potato chicken wraps disappointed read tiny back made china although company recalled best knowledge willing risk giving dog treat made china \n",
      "Original summary: made in china \n",
      "Predicted summary:  made in china\n",
      "\n",
      "\n",
      "Review: great quality olive oil used living sicily color oil sicily darker anyway great taste great quality \n",
      "Original summary: extra virgin olive oil \n",
      "Predicted summary:  great product\n",
      "\n",
      "\n",
      "Review: package came without expiration date tasted really fresh dump whole box \n",
      "Original summary: expired cookies \n",
      "Predicted summary:  not what expected\n",
      "\n",
      "\n",
      "Review: cannot find stores anymore beach area started using several yrs ago loved since \n",
      "Original summary: gotta have it \n",
      "Predicted summary:  love these\n",
      "\n",
      "\n",
      "Review: tea helpful congestion tastes great make sure let steep long directions say really seems help feel better \n",
      "Original summary: great tasting tea for cold \n",
      "Predicted summary:  great tea\n",
      "\n",
      "\n",
      "Review: sorry bought brand leaves lousy taste mouth wonder amazon giving cent shipping item stay away avoid \n",
      "Original summary: star to much \n",
      "Predicted summary:  poor packaging\n",
      "\n",
      "\n",
      "Review: absolutely best tasting coffee ever drank cannot find locally thankfully amazon saved \n",
      "Original summary: why cannot find this locally \n",
      "Predicted summary:  best coffee ever\n",
      "\n",
      "\n",
      "Review: never tried brand worried quality tasted great nice smooth rich full flavor new \n",
      "Original summary: great coffee \n",
      "Predicted summary:  great\n",
      "\n",
      "\n",
      "Review: cat allergic grain loves food special treat shipping cost high use main food cook everyday meals \n",
      "Original summary: treat \n",
      "Predicted summary:  great\n",
      "\n",
      "\n",
      "Review: bread good makes feel like eating like normal person quick easy make great taste nice firm texture \n",
      "Original summary: best ever bread \n",
      "Predicted summary:  great\n",
      "\n",
      "\n",
      "Review: nuts delicious hint sea salt good topping icecream cereal taste right \n",
      "Original summary: assorted nuts \n",
      "Predicted summary:  great\n",
      "\n",
      "\n",
      "Review: searched everywhere peppercorns stumbled upon amazon com thrilled death order great product \n",
      "Original summary: great peppercorns \n",
      "Predicted summary:  great\n",
      "\n",
      "\n",
      "Review: available lb bags family devours time served small single serving size dish \n",
      "Original summary: yumm \n",
      "Predicted summary:  great\n",
      "\n",
      "\n",
      "Review: bought coffee healing properties however great tasting coffee coffee smooth even use put sweetener coffee drink one drink coffee black great tasting \n",
      "Original summary: great coffee \n",
      "Predicted summary:  great coffee\n",
      "\n",
      "\n",
      "Review: infection throat sore lost voice drinking tea decreased throat voice slowly coming back works better tastes better yogi throat comfort keep box home work \n",
      "Original summary: throat coat is throat saver \n",
      "Predicted summary:  not the same\n",
      "\n",
      "\n",
      "Review: best ever wish would bring back craving since left \n",
      "Original summary: the best \n",
      "Predicted summary:  best\n",
      "\n",
      "\n",
      "Review: crunchy salty like described also tell use lot artificial color best caviar might really good sushi \n",
      "Original summary: it is not bad \n",
      "Predicted summary:  good\n",
      "\n",
      "\n",
      "Review: bear creek soup mixes great add meat complete hearty meal small amount time \n",
      "Original summary: good quick foods \n",
      "Predicted summary:  good\n",
      "\n",
      "\n",
      "Review: gave brother law family thanksgiving loved happy said good \n",
      "Original summary: great gift \n",
      "Predicted summary:  great gift\n",
      "\n",
      "\n",
      "Review: month old refused eat bite stuff tried could blame stuff tastes terrible \n",
      "Original summary: yuck \n",
      "Predicted summary:  yuck\n",
      "\n",
      "\n",
      "Review: kona coffee hard find around area happy find beautifully packaged able taste product also good \n",
      "Original summary: very good \n",
      "Predicted summary:  good\n",
      "\n",
      "\n",
      "Review: get count box costco prices stink \n",
      "Original summary: not good buy \n",
      "Predicted summary:  great\n",
      "\n",
      "\n",
      "Review: like treats training dog working particular task like small give keep several pocket greasy pieces crumbs experience far dog responds really well treats easy carry around \n",
      "Original summary: perfect for training \n",
      "Predicted summary:  great for training\n",
      "\n",
      "\n",
      "Review: starbucks blonde cup perfect thank gift friends keurig coffee maker satisfied level service provided \n",
      "Original summary: cup \n",
      "Predicted summary:  great coffee\n",
      "\n",
      "\n",
      "Review: brookside dark chocolate covered pomegranates lb favorite flavors rolled together easy munch form delectable delicious \n",
      "Original summary: dark chocolate covered \n",
      "Predicted summary:  yummy\n",
      "\n",
      "\n",
      "Review: best coffee ever made keurig brewers flavor full bodied bitterness \n",
      "Original summary: the best \n",
      "Predicted summary:  best coffee ever\n",
      "\n",
      "\n",
      "Review: husband eat gluten free loves spaghetti awesome flavor texture well allowing leftovers save money \n",
      "Original summary: just like regular spaghetti \n",
      "Predicted summary:  great taste\n",
      "\n",
      "\n",
      "Review: item poor came damaged multiple packs missing packs promised came packaging whatsoever box seen picture address side entire box covered tape opened seems little packs happened missing \n",
      "Original summary: horrible \n",
      "Predicted summary:  poor quality\n",
      "\n",
      "\n",
      "Review: know brown rice better choice health better buying grocery store affordable shipped straight door turned many friends buying rice dry grocery goods amazon subscribe save must \n",
      "Original summary: healthy brown rice great price \n",
      "Predicted summary:  great cereal\n",
      "\n",
      "\n",
      "Review: trying locate tuna atlanta found small nearby town usually convenient shopping great product cents cheaper amazon grocery store price holidays shipping free happy around ordered cans \n",
      "Original summary: great product \n",
      "Predicted summary:  great product\n",
      "\n",
      "\n",
      "Review: find coffee good better top dollar coffees always rich bold flavor like strong coffee great taste \n",
      "Original summary: goya coffee \n",
      "Predicted summary:  coffee\n",
      "\n",
      "\n",
      "Review: fig newtons good always keep hand right quick delicious snack small dessert nice meal \n",
      "Original summary: yummy fig \n",
      "Predicted summary:  great snack\n",
      "\n",
      "\n",
      "Review: love sobe fear drinks carbonation great flavor little taste disappointed discontinued glad able stock amazon \n",
      "Original summary: love em \n",
      "Predicted summary:  great taste\n",
      "\n",
      "\n",
      "Review: daughter allergic everything item free happy able eat bread says delicious love namaste products make sick taste good awsome buy much less amazon paying bag local co op \n",
      "Original summary: best bread out there for allergic people \n",
      "Predicted summary:  great bread\n",
      "\n",
      "\n",
      "Review: border terrier loves perfect size great training dont find smell bad people indicated \n",
      "Original summary: they really dont smell that bad \n",
      "Predicted summary:  great\n",
      "\n",
      "\n",
      "Review: got none broken wish boxes alittle bit bigger everything wonderful hope marine okinawa loves \n",
      "Original summary: came very fast \n",
      "Predicted summary:  great\n",
      "\n",
      "\n",
      "Review: buying bleached bones dogs last forever keep dogs teeth clean breath fresh great buy good product \n",
      "Original summary: great bones for dogs \n",
      "Predicted summary:  great\n",
      "\n",
      "\n",
      "Review: product great however taste peaches little bitter daughter \n",
      "Original summary: good but \n",
      "Predicted summary:  not bad\n",
      "\n",
      "\n",
      "Review: super good price best cup cocoa found glad found family big cocoa season hits love \n",
      "Original summary: great cocoa \n",
      "Predicted summary:  great\n",
      "\n",
      "\n",
      "Review: many good brands dry milk good works well smoothies home made yogurt \n",
      "Original summary: best organic dry milk \n",
      "Predicted summary:  great for\n",
      "\n",
      "\n",
      "Review: steaks real good price cannot beat store purchase item highly store \n",
      "Original summary: steaks us \n",
      "Predicted summary:  great\n",
      "\n",
      "\n",
      "Review: got easiest way give dog meds pills dog smells everything eats eats \n",
      "Original summary: pill pockets \n",
      "Predicted summary:  not for dog\n",
      "\n",
      "\n",
      "Review: good baking love low glycemic index bad diabetics sort taste especially good replacing brown sugar would purchase \n",
      "Original summary: like it \n",
      "Predicted summary:  good\n",
      "\n",
      "\n",
      "Review: bought case sauce husband loves like little warm taste bought first bottle major retail store went back found amazon got supposed days hubby happy camper \n",
      "Original summary: good stuff \n",
      "Predicted summary:  great taste\n",
      "\n",
      "\n"
     ]
    }
   ],
   "source": [
    "for i in range(0,200):\n",
    "    print(\"Review:\",seq2text(x_tr[i]))\n",
    "    print(\"Original summary:\",seq2summary(y_tr[i]))\n",
    "    print(\"Predicted summary:\",decode_sequence(x_tr[i].reshape(1,max_text_len)))\n",
    "    print(\"\\n\")"
   ]
  },
  {
   "cell_type": "code",
   "execution_count": 6,
   "metadata": {
    "id": "8suIdZdSyRRQ"
   },
   "outputs": [],
   "source": [
    "def calc_rouge_scores(pred_summaries, gold_summaries, \n",
    "                                 keys=['rouge1', 'rougeL'], use_stemmer=True):\n",
    "    #Calculate rouge scores\n",
    "    scorer = rouge_scorer.RougeScorer(keys, use_stemmer= use_stemmer)\n",
    "    \n",
    "    n = len(pred_summaries)\n",
    "    \n",
    "    scores = [scorer.score(pred_summaries[j], gold_summaries[j]) for \n",
    "              j in range(n)] \n",
    "    \n",
    "    dict_scores={}                                                            \n",
    "    for key in keys:\n",
    "        dict_scores.update({key: {}})\n",
    "        \n",
    "    \n",
    "    for key in keys:\n",
    "        \n",
    "        precision_list = [scores[j][key][0] for j in range(len(scores))]\n",
    "        recall_list = [scores[j][key][1] for j in range(len(scores))]\n",
    "        f1_list = [scores[j][key][2] for j in range(len(scores))]\n",
    "\n",
    "        precision = np.mean(precision_list)\n",
    "        recall = np.mean(recall_list)\n",
    "        f1 = np.mean(f1_list)\n",
    "        \n",
    "        dict_results = {'recall': recall, 'precision': precision, 'f1': f1}\n",
    "        \n",
    "        dict_scores[key] = dict_results\n",
    "        \n",
    "    return dict_scores"
   ]
  },
  {
   "cell_type": "code",
   "execution_count": null,
   "metadata": {
    "id": "x4YH1RSIyTQ7"
   },
   "outputs": [],
   "source": [
    "scores = calc_rouge_scores(pred_summaries, gold_summaries, \n",
    "                                  keys=['rouge1', 'rougeL'], use_stemmer=True)\n",
    "print(scores)"
   ]
  },
  {
   "cell_type": "code",
   "execution_count": 73,
   "metadata": {
    "id": "AvH4wzX8EqiH"
   },
   "outputs": [],
   "source": [
    "def summary_save(val):\n",
    " data1=[]\n",
    " data2=[]\n",
    " for i in range(0,val):\n",
    "  data=[]\n",
    "  data_p=[]\n",
    "  s=seq2summary(y_tr[i])\n",
    "  p=decode_sequence(x_tr[i].reshape(1,max_text_len))\n",
    "  data.append(s) \n",
    "  data_p.append(p)\n",
    "  data1.append(data)\n",
    "  data2.append(data_p)\n",
    " return data1,data2 "
   ]
  },
  {
   "cell_type": "code",
   "execution_count": 77,
   "metadata": {
    "id": "0qZTuYsMFFBT"
   },
   "outputs": [],
   "source": [
    "data1, data2 = summary_save(200)"
   ]
  },
  {
   "cell_type": "code",
   "execution_count": 78,
   "metadata": {
    "id": "TibjwzVwh5cq"
   },
   "outputs": [],
   "source": [
    "import csv  \n",
    "\n",
    "header = ['original_summary']\n",
    "header1=['predicted_summary']\n",
    "\n",
    "with open('original.csv', 'w', encoding='UTF8') as f:\n",
    "    writer = csv.writer(f)\n",
    "\n",
    "    # write the header\n",
    "    writer.writerow(header)\n",
    "\n",
    "    # write the data\n",
    "    writer.writerows(data1)\n",
    "\n",
    "\n",
    "\n",
    "with open('predicted.csv', 'w', encoding='UTF8') as f:\n",
    "    writer = csv.writer(f)\n",
    "\n",
    "    # write the header\n",
    "    writer.writerow(header1)\n",
    "\n",
    "    # write the data\n",
    "    writer.writerows(data2)    "
   ]
  },
  {
   "cell_type": "code",
   "execution_count": 55,
   "metadata": {
    "colab": {
     "base_uri": "https://localhost:8080/"
    },
    "id": "xLrHVMw2-n2d",
    "outputId": "235e2f3a-af2d-4bb1-8de3-2727d3e2dcab"
   },
   "outputs": [
    {
     "name": "stdout",
     "output_type": "stream",
     "text": [
      "Mounted at /content/gdrive\n"
     ]
    }
   ],
   "source": [
    "from google.colab import drive\n",
    "drive.mount('/content/gdrive')"
   ]
  },
  {
   "cell_type": "code",
   "execution_count": 8,
   "metadata": {},
   "outputs": [],
   "source": [
    "from rouge_score import rouge_scorer"
   ]
  },
  {
   "cell_type": "code",
   "execution_count": 3,
   "metadata": {},
   "outputs": [],
   "source": [
    "predicted_amazon_lstm_df=pd.read_csv('predicted.csv')\n",
    "original_amazon_lstm_df=pd.read_csv('original.csv')"
   ]
  },
  {
   "cell_type": "markdown",
   "metadata": {},
   "source": [
    "### Rouge Evaluation "
   ]
  },
  {
   "cell_type": "code",
   "execution_count": 4,
   "metadata": {},
   "outputs": [],
   "source": [
    "predicted_summary_amazon_lstm=[]\n",
    "original_summary_amazon_lstm=[]\n",
    "for i in range(predicted_amazon_lstm_df.shape[0]):\n",
    "    predicted_summary_amazon_lstm.append(predicted_amazon_lstm_df['predicted_summary'][i])\n",
    "    original_summary_amazon_lstm.append(original_amazon_lstm_df['original_summary'][i])"
   ]
  },
  {
   "cell_type": "code",
   "execution_count": 9,
   "metadata": {},
   "outputs": [],
   "source": [
    "dict_scores_amazon_lstm=calc_rouge_scores(predicted_summary_amazon_lstm,original_summary_amazon_lstm)"
   ]
  },
  {
   "cell_type": "code",
   "execution_count": 10,
   "metadata": {},
   "outputs": [
    {
     "data": {
      "text/plain": [
       "{'rouge1': {'recall': 0.26208333333333333,\n",
       "  'precision': 0.17885714285714285,\n",
       "  'f1': 0.20119047619047617},\n",
       " 'rougeL': {'recall': 0.26208333333333333,\n",
       "  'precision': 0.17885714285714285,\n",
       "  'f1': 0.20119047619047617}}"
      ]
     },
     "execution_count": 10,
     "metadata": {},
     "output_type": "execute_result"
    }
   ],
   "source": [
    "dict_scores_amazon_lstm"
   ]
  },
  {
   "cell_type": "markdown",
   "metadata": {},
   "source": [
    "We have trained the model for 100000 instead of full dataset due to the limitation of the GPU cluster as the dataset is large, if we try to train the model for full dataset then it times out at 8th epoc. If we train the model for full dataset with more powerful GPU then we will achieve better rouge score. "
   ]
  }
 ],
 "metadata": {
  "colab": {
   "collapsed_sections": [],
   "name": "How_to_build_own_text_summarizer_using_deep_learning.ipynb",
   "provenance": []
  },
  "kernelspec": {
   "display_name": "Python 3",
   "language": "python",
   "name": "python3"
  },
  "language_info": {
   "codemirror_mode": {
    "name": "ipython",
    "version": 3
   },
   "file_extension": ".py",
   "mimetype": "text/x-python",
   "name": "python",
   "nbconvert_exporter": "python",
   "pygments_lexer": "ipython3",
   "version": "3.8.5"
  }
 },
 "nbformat": 4,
 "nbformat_minor": 1
}
